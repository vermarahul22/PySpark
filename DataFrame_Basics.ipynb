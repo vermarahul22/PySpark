{
 "cells": [
  {
   "cell_type": "markdown",
   "metadata": {},
   "source": [
    "# Spark DataFrame Basics\n",
    "\n",
    "Spark DataFrames are the workhouse and main way of working with Spark and Python post Spark 2.0. DataFrames act as powerful versions of tables, with rows and columns, easily handling large datasets. The shift to DataFrames provides many advantages:\n",
    "* A much simpler syntax\n",
    "* Ability to use SQL directly in the dataframe\n",
    "* Operations are automatically distributed across RDDs\n",
    "    \n",
    "\n"
   ]
  },
  {
   "cell_type": "code",
   "execution_count": 2,
   "metadata": {},
   "outputs": [],
   "source": [
    "## Creating a DataFrame\n",
    "#First we need to start a SparkSession:\n",
    "#Import SparkSession\n",
    "\n",
    "from pyspark.sql import SparkSession"
   ]
  },
  {
   "cell_type": "markdown",
   "metadata": {},
   "source": [
    "#### Then start the SparkSession"
   ]
  },
  {
   "cell_type": "code",
   "execution_count": 3,
   "metadata": {},
   "outputs": [],
   "source": [
    "#To import the spark session:\n",
    "spark = SparkSession.builder.appName(\"Basics\").getOrCreate()"
   ]
  },
  {
   "cell_type": "code",
   "execution_count": 9,
   "metadata": {},
   "outputs": [],
   "source": [
    "#To download a csv file:\n",
    "df = spark.read.csv('Book1.csv', header=True, inferSchema=True)\n",
    "\n"
   ]
  },
  {
   "cell_type": "markdown",
   "metadata": {},
   "source": [
    "#### Showing the data"
   ]
  },
  {
   "cell_type": "code",
   "execution_count": 10,
   "metadata": {},
   "outputs": [
    {
     "name": "stdout",
     "output_type": "stream",
     "text": [
      "+-------+----+------+---------+\n",
      "|   Name| Age|Salary|     City|\n",
      "+-------+----+------+---------+\n",
      "|  Rahul|  26| 30000|Bangalore|\n",
      "|Abhinav|  26| 34000|     Pune|\n",
      "|   Sonu|  23| 34000|   Mumbai|\n",
      "|  Akash|  24| 45000|     null|\n",
      "|  Rohit|null| 35000|   Shimla|\n",
      "|   null|  23|  null|   Manali|\n",
      "| Sanjay|  30| 56000|   Mysore|\n",
      "|   null|  21| 53000|    Hubli|\n",
      "|  Suman|  28| 45000|   Mumbai|\n",
      "|  Akash|null| 23000|Hyderabad|\n",
      "|   null|null|  null|     null|\n",
      "| Aayush|  30| 38000|    Solan|\n",
      "+-------+----+------+---------+\n",
      "\n"
     ]
    }
   ],
   "source": [
    "#To print the data in rows and columns way:\n",
    "df.show()\n"
   ]
  },
  {
   "cell_type": "code",
   "execution_count": 11,
   "metadata": {},
   "outputs": [
    {
     "name": "stdout",
     "output_type": "stream",
     "text": [
      "root\n",
      " |-- Name: string (nullable = true)\n",
      " |-- Age: integer (nullable = true)\n",
      " |-- Salary: integer (nullable = true)\n",
      " |-- City: string (nullable = true)\n",
      "\n"
     ]
    }
   ],
   "source": [
    "#To print the schema:\n",
    "df.printSchema()"
   ]
  },
  {
   "cell_type": "code",
   "execution_count": 12,
   "metadata": {},
   "outputs": [
    {
     "data": {
      "text/plain": [
       "['Name', 'Age', 'Salary', 'City']"
      ]
     },
     "execution_count": 12,
     "metadata": {},
     "output_type": "execute_result"
    }
   ],
   "source": [
    "#To print the columns of a dataframe:\n",
    "df.columns"
   ]
  },
  {
   "cell_type": "code",
   "execution_count": 15,
   "metadata": {},
   "outputs": [
    {
     "name": "stdout",
     "output_type": "stream",
     "text": [
      "+-------+------+------------------+------------------+---------+\n",
      "|summary|  Name|               Age|            Salary|     City|\n",
      "+-------+------+------------------+------------------+---------+\n",
      "|  count|     9|                 9|                10|       10|\n",
      "|   mean|  null|25.666666666666668|           39300.0|     null|\n",
      "| stddev|  null| 3.201562118716425|10328.493490232628|     null|\n",
      "|    min|Aayush|                21|             23000|Bangalore|\n",
      "|    max| Suman|                30|             56000|    Solan|\n",
      "+-------+------+------------------+------------------+---------+\n",
      "\n"
     ]
    }
   ],
   "source": [
    "#To print five point summary:\n",
    "df.describe().show()"
   ]
  },
  {
   "cell_type": "markdown",
   "metadata": {},
   "source": [
    "### Grabbing the data"
   ]
  },
  {
   "cell_type": "code",
   "execution_count": 16,
   "metadata": {},
   "outputs": [
    {
     "data": {
      "text/plain": [
       "Column<'age'>"
      ]
     },
     "execution_count": 16,
     "metadata": {},
     "output_type": "execute_result"
    }
   ],
   "source": [
    "df['age']"
   ]
  },
  {
   "cell_type": "code",
   "execution_count": 17,
   "metadata": {},
   "outputs": [
    {
     "data": {
      "text/plain": [
       "pyspark.sql.column.Column"
      ]
     },
     "execution_count": 17,
     "metadata": {},
     "output_type": "execute_result"
    }
   ],
   "source": [
    "type(df['age'])"
   ]
  },
  {
   "cell_type": "code",
   "execution_count": 18,
   "metadata": {},
   "outputs": [
    {
     "name": "stdout",
     "output_type": "stream",
     "text": [
      "+----+\n",
      "| age|\n",
      "+----+\n",
      "|  26|\n",
      "|  26|\n",
      "|  23|\n",
      "|  24|\n",
      "|null|\n",
      "|  23|\n",
      "|  30|\n",
      "|  21|\n",
      "|  28|\n",
      "|null|\n",
      "|null|\n",
      "|  30|\n",
      "+----+\n",
      "\n"
     ]
    }
   ],
   "source": [
    "df.select('age').show()"
   ]
  },
  {
   "cell_type": "code",
   "execution_count": 19,
   "metadata": {},
   "outputs": [
    {
     "data": {
      "text/plain": [
       "pyspark.sql.dataframe.DataFrame"
      ]
     },
     "execution_count": 19,
     "metadata": {},
     "output_type": "execute_result"
    }
   ],
   "source": [
    "type(df.select('age'))"
   ]
  },
  {
   "cell_type": "code",
   "execution_count": 20,
   "metadata": {},
   "outputs": [
    {
     "name": "stdout",
     "output_type": "stream",
     "text": [
      "+----+\n",
      "| age|\n",
      "+----+\n",
      "|  26|\n",
      "|  26|\n",
      "|  23|\n",
      "|  24|\n",
      "|null|\n",
      "|  23|\n",
      "|  30|\n",
      "|  21|\n",
      "|  28|\n",
      "|null|\n",
      "|null|\n",
      "|  30|\n",
      "+----+\n",
      "\n"
     ]
    }
   ],
   "source": [
    "df.select('age').show()"
   ]
  },
  {
   "cell_type": "code",
   "execution_count": 21,
   "metadata": {},
   "outputs": [
    {
     "data": {
      "text/plain": [
       "[Row(Name='Rahul', Age=26, Salary=30000, City='Bangalore'),\n",
       " Row(Name='Abhinav', Age=26, Salary=34000, City='Pune')]"
      ]
     },
     "execution_count": 21,
     "metadata": {},
     "output_type": "execute_result"
    }
   ],
   "source": [
    "# Returns list of Row objects\n",
    "df.head(2)"
   ]
  },
  {
   "cell_type": "markdown",
   "metadata": {},
   "source": [
    "Multiple Columns:"
   ]
  },
  {
   "cell_type": "code",
   "execution_count": 22,
   "metadata": {},
   "outputs": [
    {
     "name": "stdout",
     "output_type": "stream",
     "text": [
      "+----+-------+\n",
      "| age|   name|\n",
      "+----+-------+\n",
      "|  26|  Rahul|\n",
      "|  26|Abhinav|\n",
      "|  23|   Sonu|\n",
      "|  24|  Akash|\n",
      "|null|  Rohit|\n",
      "|  23|   null|\n",
      "|  30| Sanjay|\n",
      "|  21|   null|\n",
      "|  28|  Suman|\n",
      "|null|  Akash|\n",
      "|null|   null|\n",
      "|  30| Aayush|\n",
      "+----+-------+\n",
      "\n"
     ]
    }
   ],
   "source": [
    "df.select(['age','name']).show()"
   ]
  },
  {
   "cell_type": "markdown",
   "metadata": {},
   "source": [
    "### Creating new columns"
   ]
  },
  {
   "cell_type": "code",
   "execution_count": 24,
   "metadata": {},
   "outputs": [
    {
     "name": "stdout",
     "output_type": "stream",
     "text": [
      "+-------+----+------+---------+------+\n",
      "|   Name| Age|Salary|     City|newage|\n",
      "+-------+----+------+---------+------+\n",
      "|  Rahul|  26| 30000|Bangalore|    31|\n",
      "|Abhinav|  26| 34000|     Pune|    31|\n",
      "|   Sonu|  23| 34000|   Mumbai|    28|\n",
      "|  Akash|  24| 45000|     null|    29|\n",
      "|  Rohit|null| 35000|   Shimla|  null|\n",
      "|   null|  23|  null|   Manali|    28|\n",
      "| Sanjay|  30| 56000|   Mysore|    35|\n",
      "|   null|  21| 53000|    Hubli|    26|\n",
      "|  Suman|  28| 45000|   Mumbai|    33|\n",
      "|  Akash|null| 23000|Hyderabad|  null|\n",
      "|   null|null|  null|     null|  null|\n",
      "| Aayush|  30| 38000|    Solan|    35|\n",
      "+-------+----+------+---------+------+\n",
      "\n"
     ]
    }
   ],
   "source": [
    "# Adding a new column with a simple copy\n",
    "df.withColumn('newage',df['age']+5).show()"
   ]
  },
  {
   "cell_type": "code",
   "execution_count": 25,
   "metadata": {},
   "outputs": [
    {
     "name": "stdout",
     "output_type": "stream",
     "text": [
      "+-------+----+------+---------+\n",
      "|   Name| Age|Salary|     City|\n",
      "+-------+----+------+---------+\n",
      "|  Rahul|  26| 30000|Bangalore|\n",
      "|Abhinav|  26| 34000|     Pune|\n",
      "|   Sonu|  23| 34000|   Mumbai|\n",
      "|  Akash|  24| 45000|     null|\n",
      "|  Rohit|null| 35000|   Shimla|\n",
      "|   null|  23|  null|   Manali|\n",
      "| Sanjay|  30| 56000|   Mysore|\n",
      "|   null|  21| 53000|    Hubli|\n",
      "|  Suman|  28| 45000|   Mumbai|\n",
      "|  Akash|null| 23000|Hyderabad|\n",
      "|   null|null|  null|     null|\n",
      "| Aayush|  30| 38000|    Solan|\n",
      "+-------+----+------+---------+\n",
      "\n"
     ]
    }
   ],
   "source": [
    "df.show()"
   ]
  },
  {
   "cell_type": "code",
   "execution_count": 26,
   "metadata": {},
   "outputs": [
    {
     "name": "stdout",
     "output_type": "stream",
     "text": [
      "+-------+----+------+---------+\n",
      "|   Name| Age|Salary|     City|\n",
      "+-------+----+------+---------+\n",
      "|  Rahul|  26| 30000|Bangalore|\n",
      "|Abhinav|  26| 34000|     Pune|\n",
      "|   Sonu|  23| 34000|   Mumbai|\n",
      "|  Akash|  24| 45000|     null|\n",
      "|  Rohit|null| 35000|   Shimla|\n",
      "|   null|  23|  null|   Manali|\n",
      "| Sanjay|  30| 56000|   Mysore|\n",
      "|   null|  21| 53000|    Hubli|\n",
      "|  Suman|  28| 45000|   Mumbai|\n",
      "|  Akash|null| 23000|Hyderabad|\n",
      "|   null|null|  null|     null|\n",
      "| Aayush|  30| 38000|    Solan|\n",
      "+-------+----+------+---------+\n",
      "\n"
     ]
    }
   ],
   "source": [
    "# Simple Rename\n",
    "df.withColumnRenamed('age','Age').show()"
   ]
  },
  {
   "cell_type": "markdown",
   "metadata": {},
   "source": [
    "#### More complicated operations to create new columns"
   ]
  },
  {
   "cell_type": "code",
   "execution_count": 35,
   "metadata": {},
   "outputs": [
    {
     "name": "stdout",
     "output_type": "stream",
     "text": [
      "+-------+----+------+---------+-----------+\n",
      "|   Name| Age|Salary|     City|Age_after_5|\n",
      "+-------+----+------+---------+-----------+\n",
      "|  Rahul|  26| 30000|Bangalore|         31|\n",
      "|Abhinav|  26| 34000|     Pune|         31|\n",
      "|   Sonu|  23| 34000|   Mumbai|         28|\n",
      "|  Akash|  24| 45000|     null|         29|\n",
      "|  Rohit|null| 35000|   Shimla|       null|\n",
      "|   null|  23|  null|   Manali|         28|\n",
      "| Sanjay|  30| 56000|   Mysore|         35|\n",
      "|   null|  21| 53000|    Hubli|         26|\n",
      "|  Suman|  28| 45000|   Mumbai|         33|\n",
      "|  Akash|null| 23000|Hyderabad|       null|\n",
      "|   null|null|  null|     null|       null|\n",
      "| Aayush|  30| 38000|    Solan|         35|\n",
      "+-------+----+------+---------+-----------+\n",
      "\n"
     ]
    }
   ],
   "source": [
    "#Age after 5 years\n",
    "df.withColumn('Age_after_5',df['age']+5).show()"
   ]
  },
  {
   "cell_type": "code",
   "execution_count": 34,
   "metadata": {},
   "outputs": [
    {
     "name": "stdout",
     "output_type": "stream",
     "text": [
      "+-------+----+------+---------+-----------+\n",
      "|   Name| Age|Salary|     City|add_one_age|\n",
      "+-------+----+------+---------+-----------+\n",
      "|  Rahul|  26| 30000|Bangalore|         36|\n",
      "|Abhinav|  26| 34000|     Pune|         36|\n",
      "|   Sonu|  23| 34000|   Mumbai|         33|\n",
      "|  Akash|  24| 45000|     null|         34|\n",
      "|  Rohit|null| 35000|   Shimla|       null|\n",
      "|   null|  23|  null|   Manali|         33|\n",
      "| Sanjay|  30| 56000|   Mysore|         40|\n",
      "|   null|  21| 53000|    Hubli|         31|\n",
      "|  Suman|  28| 45000|   Mumbai|         38|\n",
      "|  Akash|null| 23000|Hyderabad|       null|\n",
      "|   null|null|  null|     null|       null|\n",
      "| Aayush|  30| 38000|    Solan|         40|\n",
      "+-------+----+------+---------+-----------+\n",
      "\n"
     ]
    }
   ],
   "source": [
    "#Age after 10 years:\n",
    "df.withColumn('add_one_age',df['age']+10).show()"
   ]
  },
  {
   "cell_type": "code",
   "execution_count": 31,
   "metadata": {},
   "outputs": [
    {
     "name": "stdout",
     "output_type": "stream",
     "text": [
      "+-------+----+------+---------+--------+\n",
      "|   Name| Age|Salary|     City|half_age|\n",
      "+-------+----+------+---------+--------+\n",
      "|  Rahul|  26| 30000|Bangalore|    13.0|\n",
      "|Abhinav|  26| 34000|     Pune|    13.0|\n",
      "|   Sonu|  23| 34000|   Mumbai|    11.5|\n",
      "|  Akash|  24| 45000|     null|    12.0|\n",
      "|  Rohit|null| 35000|   Shimla|    null|\n",
      "|   null|  23|  null|   Manali|    11.5|\n",
      "| Sanjay|  30| 56000|   Mysore|    15.0|\n",
      "|   null|  21| 53000|    Hubli|    10.5|\n",
      "|  Suman|  28| 45000|   Mumbai|    14.0|\n",
      "|  Akash|null| 23000|Hyderabad|    null|\n",
      "|   null|null|  null|     null|    null|\n",
      "| Aayush|  30| 38000|    Solan|    15.0|\n",
      "+-------+----+------+---------+--------+\n",
      "\n"
     ]
    }
   ],
   "source": [
    "df.withColumn('half_age',df['age']/2).show()"
   ]
  },
  {
   "cell_type": "code",
   "execution_count": 32,
   "metadata": {},
   "outputs": [
    {
     "data": {
      "text/plain": [
       "DataFrame[Name: string, Age: int, Salary: int, City: string, half_age: double]"
      ]
     },
     "execution_count": 32,
     "metadata": {},
     "output_type": "execute_result"
    }
   ],
   "source": [
    "df.withColumn('half_age',df['age']/2)"
   ]
  },
  {
   "cell_type": "code",
   "execution_count": 33,
   "metadata": {},
   "outputs": [
    {
     "name": "stdout",
     "output_type": "stream",
     "text": [
      "+-------+----+------+---------+\n",
      "|   Name| Age|Salary|     City|\n",
      "+-------+----+------+---------+\n",
      "|  Rahul|  26| 30000|Bangalore|\n",
      "|Abhinav|  26| 34000|     Pune|\n",
      "|   Sonu|  23| 34000|   Mumbai|\n",
      "|  Akash|  24| 45000|     null|\n",
      "|  Rohit|null| 35000|   Shimla|\n",
      "|   null|  23|  null|   Manali|\n",
      "| Sanjay|  30| 56000|   Mysore|\n",
      "|   null|  21| 53000|    Hubli|\n",
      "|  Suman|  28| 45000|   Mumbai|\n",
      "|  Akash|null| 23000|Hyderabad|\n",
      "|   null|null|  null|     null|\n",
      "| Aayush|  30| 38000|    Solan|\n",
      "+-------+----+------+---------+\n",
      "\n"
     ]
    }
   ],
   "source": [
    "df.show()"
   ]
  },
  {
   "cell_type": "markdown",
   "metadata": {},
   "source": [
    "We'll discuss much more complicated operations later on!"
   ]
  },
  {
   "cell_type": "markdown",
   "metadata": {},
   "source": [
    "### Using SQL\n",
    "\n",
    "To use SQL queries directly with the dataframe, you will need to register it to a temporary view:"
   ]
  },
  {
   "cell_type": "code",
   "execution_count": 23,
   "metadata": {},
   "outputs": [],
   "source": [
    "# Register the DataFrame as a SQL temporary view\n",
    "df.createOrReplaceTempView(\"people\")"
   ]
  },
  {
   "cell_type": "code",
   "execution_count": 24,
   "metadata": {},
   "outputs": [],
   "source": [
    "sql_results = spark.sql(\"SELECT * FROM people\")"
   ]
  },
  {
   "cell_type": "code",
   "execution_count": 25,
   "metadata": {},
   "outputs": [
    {
     "data": {
      "text/plain": [
       "DataFrame[age: bigint, name: string]"
      ]
     },
     "execution_count": 25,
     "metadata": {},
     "output_type": "execute_result"
    }
   ],
   "source": [
    "sql_results"
   ]
  },
  {
   "cell_type": "code",
   "execution_count": 29,
   "metadata": {},
   "outputs": [
    {
     "name": "stdout",
     "output_type": "stream",
     "text": [
      "+----+-------+\n",
      "| age|   name|\n",
      "+----+-------+\n",
      "|null|Michael|\n",
      "|  30|   Andy|\n",
      "|  19| Justin|\n",
      "+----+-------+\n",
      "\n"
     ]
    }
   ],
   "source": [
    "#To print the entire dataframe\n",
    "sql_results.show()"
   ]
  },
  {
   "cell_type": "code",
   "execution_count": 28,
   "metadata": {},
   "outputs": [
    {
     "name": "stdout",
     "output_type": "stream",
     "text": [
      "+---+----+\n",
      "|age|name|\n",
      "+---+----+\n",
      "| 30|Andy|\n",
      "+---+----+\n",
      "\n"
     ]
    }
   ],
   "source": [
    "#Select the records where age is 30\n",
    "spark.sql(\"SELECT * FROM people WHERE age=30\").show()"
   ]
  },
  {
   "cell_type": "markdown",
   "metadata": {},
   "source": [
    "We won't really be focusing on using the SQL syntax for this course in general, but keep in mind it is always there for you to get you out of bind quickly with your SQL skills!"
   ]
  },
  {
   "cell_type": "markdown",
   "metadata": {},
   "source": [
    "Alright that is all we need to know for now!"
   ]
  }
 ],
 "metadata": {
  "anaconda-cloud": {},
  "kernelspec": {
   "display_name": "Python 3 (ipykernel)",
   "language": "python",
   "name": "python3"
  },
  "language_info": {
   "codemirror_mode": {
    "name": "ipython",
    "version": 3
   },
   "file_extension": ".py",
   "mimetype": "text/x-python",
   "name": "python",
   "nbconvert_exporter": "python",
   "pygments_lexer": "ipython3",
   "version": "3.9.12"
  },
  "nbpresent": {
   "slides": {},
   "themes": {
    "default": "0535adbc-b74f-46cc-9cd6-4eabe2477c8e",
    "theme": {
     "0535adbc-b74f-46cc-9cd6-4eabe2477c8e": {
      "backgrounds": {
       "backgroundColor": {
        "background-color": "backgroundColor",
        "id": "backgroundColor"
       }
      },
      "id": "0535adbc-b74f-46cc-9cd6-4eabe2477c8e",
      "palette": {
       "backgroundColor": {
        "id": "backgroundColor",
        "rgb": [
         43,
         43,
         43
        ]
       },
       "headingColor": {
        "id": "headingColor",
        "rgb": [
         238,
         238,
         238
        ]
       },
       "linkColor": {
        "id": "linkColor",
        "rgb": [
         19,
         218,
         236
        ]
       },
       "mainColor": {
        "id": "mainColor",
        "rgb": [
         238,
         238,
         238
        ]
       }
      },
      "rules": {
       "a": {
        "color": "linkColor"
       },
       "h1": {
        "color": "headingColor",
        "font-family": "Oswald",
        "font-size": 7
       },
       "h2": {
        "color": "headingColor",
        "font-family": "Oswald",
        "font-size": 5
       },
       "h3": {
        "color": "headingColor",
        "font-family": "Oswald",
        "font-size": 3.75
       },
       "h4": {
        "color": "headingColor",
        "font-family": "Oswald",
        "font-size": 3
       },
       "h5": {
        "color": "headingColor",
        "font-family": "Oswald"
       },
       "h6": {
        "color": "headingColor",
        "font-family": "Oswald"
       },
       "h7": {
        "color": "headingColor",
        "font-family": "Oswald"
       },
       "li": {
        "color": "mainColor",
        "font-family": "Lato",
        "font-size": 5
       },
       "p": {
        "color": "mainColor",
        "font-family": "Lato",
        "font-size": 5
       }
      },
      "text-base": {
       "color": "mainColor",
       "font-family": "Lato",
       "font-size": 5
      }
     },
     "cc59980f-cb69-400a-b63a-1fb85ca73c8a": {
      "backgrounds": {
       "dc7afa04-bf90-40b1-82a5-726e3cff5267": {
        "background-color": "31af15d2-7e15-44c5-ab5e-e04b16a89eff",
        "id": "dc7afa04-bf90-40b1-82a5-726e3cff5267"
       }
      },
      "id": "cc59980f-cb69-400a-b63a-1fb85ca73c8a",
      "palette": {
       "19cc588f-0593-49c9-9f4b-e4d7cc113b1c": {
        "id": "19cc588f-0593-49c9-9f4b-e4d7cc113b1c",
        "rgb": [
         252,
         252,
         252
        ]
       },
       "31af15d2-7e15-44c5-ab5e-e04b16a89eff": {
        "id": "31af15d2-7e15-44c5-ab5e-e04b16a89eff",
        "rgb": [
         68,
         68,
         68
        ]
       },
       "50f92c45-a630-455b-aec3-788680ec7410": {
        "id": "50f92c45-a630-455b-aec3-788680ec7410",
        "rgb": [
         197,
         226,
         245
        ]
       },
       "c5cc3653-2ee1-402a-aba2-7caae1da4f6c": {
        "id": "c5cc3653-2ee1-402a-aba2-7caae1da4f6c",
        "rgb": [
         43,
         126,
         184
        ]
       },
       "efa7f048-9acb-414c-8b04-a26811511a21": {
        "id": "efa7f048-9acb-414c-8b04-a26811511a21",
        "rgb": [
         25.118061674008803,
         73.60176211453744,
         107.4819383259912
        ]
       }
      },
      "rules": {
       "a": {
        "color": "19cc588f-0593-49c9-9f4b-e4d7cc113b1c"
       },
       "blockquote": {
        "color": "50f92c45-a630-455b-aec3-788680ec7410",
        "font-size": 3
       },
       "code": {
        "font-family": "Anonymous Pro"
       },
       "h1": {
        "color": "19cc588f-0593-49c9-9f4b-e4d7cc113b1c",
        "font-family": "Merriweather",
        "font-size": 8
       },
       "h2": {
        "color": "19cc588f-0593-49c9-9f4b-e4d7cc113b1c",
        "font-family": "Merriweather",
        "font-size": 6
       },
       "h3": {
        "color": "50f92c45-a630-455b-aec3-788680ec7410",
        "font-family": "Lato",
        "font-size": 5.5
       },
       "h4": {
        "color": "c5cc3653-2ee1-402a-aba2-7caae1da4f6c",
        "font-family": "Lato",
        "font-size": 5
       },
       "h5": {
        "font-family": "Lato"
       },
       "h6": {
        "font-family": "Lato"
       },
       "h7": {
        "font-family": "Lato"
       },
       "li": {
        "color": "50f92c45-a630-455b-aec3-788680ec7410",
        "font-size": 3.25
       },
       "pre": {
        "font-family": "Anonymous Pro",
        "font-size": 4
       }
      },
      "text-base": {
       "color": "19cc588f-0593-49c9-9f4b-e4d7cc113b1c",
       "font-family": "Lato",
       "font-size": 4
      }
     }
    }
   }
  }
 },
 "nbformat": 4,
 "nbformat_minor": 1
}
