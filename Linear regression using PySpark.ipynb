{
 "cells": [
  {
   "cell_type": "markdown",
   "id": "e54b7910",
   "metadata": {},
   "source": [
    "# Regression Problem using PySpark"
   ]
  },
  {
   "cell_type": "code",
   "execution_count": 1,
   "id": "84ca3fd5",
   "metadata": {},
   "outputs": [],
   "source": [
    "#Import the required libraries:\n",
    "import pandas as pd\n",
    "import numpy as np\n",
    "from pyspark.sql import SparkSession "
   ]
  },
  {
   "cell_type": "code",
   "execution_count": 3,
   "id": "ab3aeead",
   "metadata": {},
   "outputs": [
    {
     "data": {
      "text/html": [
       "\n",
       "            <div>\n",
       "                <p><b>SparkSession - in-memory</b></p>\n",
       "                \n",
       "        <div>\n",
       "            <p><b>SparkContext</b></p>\n",
       "\n",
       "            <p><a href=\"http://DESKTOP-BFEIRED:4041\">Spark UI</a></p>\n",
       "\n",
       "            <dl>\n",
       "              <dt>Version</dt>\n",
       "                <dd><code>v3.2.1</code></dd>\n",
       "              <dt>Master</dt>\n",
       "                <dd><code>local[*]</code></dd>\n",
       "              <dt>AppName</dt>\n",
       "                <dd><code>Regression</code></dd>\n",
       "            </dl>\n",
       "        </div>\n",
       "        \n",
       "            </div>\n",
       "        "
      ],
      "text/plain": [
       "<pyspark.sql.session.SparkSession at 0x2a1aed31ca0>"
      ]
     },
     "execution_count": 3,
     "metadata": {},
     "output_type": "execute_result"
    }
   ],
   "source": [
    "spark = SparkSession.builder.appName('Regression').getOrCreate()\n",
    "spark"
   ]
  },
  {
   "cell_type": "code",
   "execution_count": 5,
   "id": "07a67866",
   "metadata": {},
   "outputs": [
    {
     "name": "stdout",
     "output_type": "stream",
     "text": [
      "+---------+---+----------+------+\n",
      "|     Name|Age|Experience|Salary|\n",
      "+---------+---+----------+------+\n",
      "|    Rahul| 27|         4| 48856|\n",
      "|    Akash| 21|         4| 31376|\n",
      "|    Suman| 26|         5| 47800|\n",
      "|     Abhi| 28|         4| 41331|\n",
      "|   Sanjay| 25|         3| 42705|\n",
      "|    Akash| 26|         3| 31876|\n",
      "|   Aayush| 23|         3| 40622|\n",
      "|     Aman| 21|         4| 33124|\n",
      "|   Preeti| 23|         5| 39764|\n",
      "|  Kanchan| 28|         2| 31630|\n",
      "|    Sudha| 23|         2| 30076|\n",
      "|    Krish| 25|         2| 32973|\n",
      "|Sudhanshu| 22|         2| 48528|\n",
      "|      Sam| 26|         4| 40971|\n",
      "|    Raman| 22|         3| 34320|\n",
      "|    Rajan| 22|         5| 39867|\n",
      "|    Rohit| 24|         2| 30006|\n",
      "|   Rajesh| 22|         2| 34010|\n",
      "|  Aarushi| 27|         2| 35077|\n",
      "|    Arika| 23|         5| 42722|\n",
      "+---------+---+----------+------+\n",
      "only showing top 20 rows\n",
      "\n"
     ]
    }
   ],
   "source": [
    "#To load the csv file:\n",
    "df_espark = spark.read.csv('Employee.csv',header=True,inferSchema=True)\n",
    "df_espark.show()"
   ]
  },
  {
   "cell_type": "code",
   "execution_count": 7,
   "id": "11078ef5",
   "metadata": {},
   "outputs": [
    {
     "name": "stdout",
     "output_type": "stream",
     "text": [
      "root\n",
      " |-- Name: string (nullable = true)\n",
      " |-- Age: integer (nullable = true)\n",
      " |-- Experience: integer (nullable = true)\n",
      " |-- Salary: integer (nullable = true)\n",
      "\n"
     ]
    }
   ],
   "source": [
    "#Print schema to check the data types of columns:\n",
    "df_espark.printSchema()"
   ]
  },
  {
   "cell_type": "code",
   "execution_count": 11,
   "id": "48120c80",
   "metadata": {},
   "outputs": [
    {
     "data": {
      "text/plain": [
       "4"
      ]
     },
     "execution_count": 11,
     "metadata": {},
     "output_type": "execute_result"
    }
   ],
   "source": [
    "#To check the number of columns in dataframe:\n",
    "len(df_espark.columns)"
   ]
  },
  {
   "cell_type": "code",
   "execution_count": 15,
   "id": "d62daac1",
   "metadata": {},
   "outputs": [
    {
     "data": {
      "text/plain": [
       "36"
      ]
     },
     "execution_count": 15,
     "metadata": {},
     "output_type": "execute_result"
    }
   ],
   "source": [
    "#To check the number of rows in dataframe:\n",
    "df_espark.count()"
   ]
  },
  {
   "cell_type": "code",
   "execution_count": 19,
   "id": "142ada25",
   "metadata": {},
   "outputs": [
    {
     "name": "stdout",
     "output_type": "stream",
     "text": [
      "+-------+-------+------------------+-----------------+-----------------+\n",
      "|summary|   Name|               Age|       Experience|           Salary|\n",
      "+-------+-------+------------------+-----------------+-----------------+\n",
      "|  count|     36|                36|               36|               36|\n",
      "|   mean|   null| 23.97222222222222|3.111111111111111|39079.52777777778|\n",
      "| stddev|   null|2.3843071603551063|1.115546702045434|6189.434968377788|\n",
      "|    min|Aarushi|                20|                1|            30006|\n",
      "|    max|Tamanna|                28|                5|            48856|\n",
      "+-------+-------+------------------+-----------------+-----------------+\n",
      "\n"
     ]
    }
   ],
   "source": [
    "#To check the five point summary:\n",
    "df_espark.describe().show()"
   ]
  },
  {
   "cell_type": "code",
   "execution_count": 22,
   "id": "bf8d83fb",
   "metadata": {},
   "outputs": [
    {
     "data": {
      "text/plain": [
       "['Name', 'Age', 'Experience', 'Salary']"
      ]
     },
     "execution_count": 22,
     "metadata": {},
     "output_type": "execute_result"
    }
   ],
   "source": [
    "#To check all the columns:\n",
    "df_espark.columns"
   ]
  },
  {
   "cell_type": "code",
   "execution_count": 29,
   "id": "7cee13a7",
   "metadata": {},
   "outputs": [],
   "source": [
    "from pyspark.ml.feature import VectorAssembler\n",
    "assembler = VectorAssembler(inputCols=['Age', 'Experience'],outputCol='Independent features') \n"
   ]
  },
  {
   "cell_type": "code",
   "execution_count": 32,
   "id": "248b243b",
   "metadata": {},
   "outputs": [
    {
     "name": "stdout",
     "output_type": "stream",
     "text": [
      "+---------+---+----------+------+--------------------+\n",
      "|     Name|Age|Experience|Salary|Independent features|\n",
      "+---------+---+----------+------+--------------------+\n",
      "|    Rahul| 27|         4| 48856|          [27.0,4.0]|\n",
      "|    Akash| 21|         4| 31376|          [21.0,4.0]|\n",
      "|    Suman| 26|         5| 47800|          [26.0,5.0]|\n",
      "|     Abhi| 28|         4| 41331|          [28.0,4.0]|\n",
      "|   Sanjay| 25|         3| 42705|          [25.0,3.0]|\n",
      "|    Akash| 26|         3| 31876|          [26.0,3.0]|\n",
      "|   Aayush| 23|         3| 40622|          [23.0,3.0]|\n",
      "|     Aman| 21|         4| 33124|          [21.0,4.0]|\n",
      "|   Preeti| 23|         5| 39764|          [23.0,5.0]|\n",
      "|  Kanchan| 28|         2| 31630|          [28.0,2.0]|\n",
      "|    Sudha| 23|         2| 30076|          [23.0,2.0]|\n",
      "|    Krish| 25|         2| 32973|          [25.0,2.0]|\n",
      "|Sudhanshu| 22|         2| 48528|          [22.0,2.0]|\n",
      "|      Sam| 26|         4| 40971|          [26.0,4.0]|\n",
      "|    Raman| 22|         3| 34320|          [22.0,3.0]|\n",
      "|    Rajan| 22|         5| 39867|          [22.0,5.0]|\n",
      "|    Rohit| 24|         2| 30006|          [24.0,2.0]|\n",
      "|   Rajesh| 22|         2| 34010|          [22.0,2.0]|\n",
      "|  Aarushi| 27|         2| 35077|          [27.0,2.0]|\n",
      "|    Arika| 23|         5| 42722|          [23.0,5.0]|\n",
      "+---------+---+----------+------+--------------------+\n",
      "only showing top 20 rows\n",
      "\n"
     ]
    }
   ],
   "source": [
    "output = assembler.transform(df_espark)\n",
    "output.show()"
   ]
  },
  {
   "cell_type": "code",
   "execution_count": 33,
   "id": "958bc880",
   "metadata": {},
   "outputs": [
    {
     "data": {
      "text/plain": [
       "['Name', 'Age', 'Experience', 'Salary', 'Independent features']"
      ]
     },
     "execution_count": 33,
     "metadata": {},
     "output_type": "execute_result"
    }
   ],
   "source": [
    "output.columns"
   ]
  },
  {
   "cell_type": "code",
   "execution_count": 36,
   "id": "842d0862",
   "metadata": {},
   "outputs": [
    {
     "name": "stdout",
     "output_type": "stream",
     "text": [
      "+--------------------+------+\n",
      "|Independent features|Salary|\n",
      "+--------------------+------+\n",
      "|          [27.0,4.0]| 48856|\n",
      "|          [21.0,4.0]| 31376|\n",
      "|          [26.0,5.0]| 47800|\n",
      "|          [28.0,4.0]| 41331|\n",
      "|          [25.0,3.0]| 42705|\n",
      "|          [26.0,3.0]| 31876|\n",
      "|          [23.0,3.0]| 40622|\n",
      "|          [21.0,4.0]| 33124|\n",
      "|          [23.0,5.0]| 39764|\n",
      "|          [28.0,2.0]| 31630|\n",
      "|          [23.0,2.0]| 30076|\n",
      "|          [25.0,2.0]| 32973|\n",
      "|          [22.0,2.0]| 48528|\n",
      "|          [26.0,4.0]| 40971|\n",
      "|          [22.0,3.0]| 34320|\n",
      "|          [22.0,5.0]| 39867|\n",
      "|          [24.0,2.0]| 30006|\n",
      "|          [22.0,2.0]| 34010|\n",
      "|          [27.0,2.0]| 35077|\n",
      "|          [23.0,5.0]| 42722|\n",
      "+--------------------+------+\n",
      "only showing top 20 rows\n",
      "\n"
     ]
    }
   ],
   "source": [
    "final_data = output.select('Independent features','Salary')\n",
    "final_data.show()"
   ]
  },
  {
   "cell_type": "code",
   "execution_count": 47,
   "id": "520d661b",
   "metadata": {},
   "outputs": [],
   "source": [
    "#Import linear regressor from PySpark\n",
    "from pyspark.ml.regression import LinearRegression\n",
    "\n",
    "#Train test split:\n",
    "train_data, test_data = final_data.randomSplit([0.7,0.3])\n"
   ]
  },
  {
   "cell_type": "code",
   "execution_count": 46,
   "id": "f79c2a13",
   "metadata": {},
   "outputs": [],
   "source": [
    "#Initialize a linear regressor:\n",
    "reg = LinearRegression(featuresCol=\"Independent features\", labelCol='Salary' )\n",
    "reg = reg.fit(train_data)\n"
   ]
  },
  {
   "cell_type": "code",
   "execution_count": 49,
   "id": "fe39d64f",
   "metadata": {},
   "outputs": [
    {
     "data": {
      "text/plain": [
       "DenseVector([19.6232, 650.7703])"
      ]
     },
     "execution_count": 49,
     "metadata": {},
     "output_type": "execute_result"
    }
   ],
   "source": [
    "#To check the coefficients:\n",
    "reg.coefficients"
   ]
  },
  {
   "cell_type": "code",
   "execution_count": 50,
   "id": "c57e5b66",
   "metadata": {},
   "outputs": [
    {
     "data": {
      "text/plain": [
       "36427.93170161437"
      ]
     },
     "execution_count": 50,
     "metadata": {},
     "output_type": "execute_result"
    }
   ],
   "source": [
    "#To check the intercept:\n",
    "reg.intercept"
   ]
  },
  {
   "cell_type": "code",
   "execution_count": 55,
   "id": "5726380c",
   "metadata": {},
   "outputs": [
    {
     "name": "stdout",
     "output_type": "stream",
     "text": [
      "+--------------------+------+------------------+\n",
      "|Independent features|Salary|        prediction|\n",
      "+--------------------+------+------------------+\n",
      "|          [20.0,4.0]| 35601| 39423.47710816115|\n",
      "|          [21.0,2.0]| 32978|38141.559699803925|\n",
      "|          [22.0,2.0]| 42350| 38161.18290843267|\n",
      "|          [22.0,2.0]| 48684| 38161.18290843267|\n",
      "|          [22.0,5.0]| 39867| 40113.49383391161|\n",
      "|          [23.0,5.0]| 39764|40133.117042540354|\n",
      "|          [25.0,4.0]| 35638|39521.593151304856|\n",
      "|          [26.0,3.0]| 41154| 38890.44605144062|\n",
      "|          [27.0,2.0]| 35077| 38259.29895157638|\n",
      "|          [27.0,4.0]| 48856| 39560.83956856234|\n",
      "+--------------------+------+------------------+\n",
      "\n"
     ]
    },
    {
     "name": "stderr",
     "output_type": "stream",
     "text": [
      "C:\\Users\\User\\anaconda3\\lib\\site-packages\\pyspark\\sql\\context.py:125: FutureWarning: Deprecated in 3.0.0. Use SparkSession.builder.getOrCreate() instead.\n",
      "  warnings.warn(\n"
     ]
    }
   ],
   "source": [
    "#Predict\n",
    "pred = reg.evaluate(test_data)\n",
    "pred.predictions.show()"
   ]
  },
  {
   "cell_type": "code",
   "execution_count": 59,
   "id": "378cd24d",
   "metadata": {},
   "outputs": [
    {
     "data": {
      "text/plain": [
       "4293.7888350429985"
      ]
     },
     "execution_count": 59,
     "metadata": {},
     "output_type": "execute_result"
    }
   ],
   "source": [
    "#To check model performance\n",
    "pred.meanAbsoluteError"
   ]
  },
  {
   "cell_type": "code",
   "execution_count": 58,
   "id": "46d538bf",
   "metadata": {},
   "outputs": [
    {
     "data": {
      "text/plain": [
       "28647956.109256286"
      ]
     },
     "execution_count": 58,
     "metadata": {},
     "output_type": "execute_result"
    }
   ],
   "source": [
    "pred.meanSquaredError"
   ]
  },
  {
   "cell_type": "code",
   "execution_count": null,
   "id": "2d093bc4",
   "metadata": {},
   "outputs": [],
   "source": []
  },
  {
   "cell_type": "code",
   "execution_count": null,
   "id": "b6bb0e8a",
   "metadata": {},
   "outputs": [],
   "source": []
  }
 ],
 "metadata": {
  "kernelspec": {
   "display_name": "Python 3 (ipykernel)",
   "language": "python",
   "name": "python3"
  },
  "language_info": {
   "codemirror_mode": {
    "name": "ipython",
    "version": 3
   },
   "file_extension": ".py",
   "mimetype": "text/x-python",
   "name": "python",
   "nbconvert_exporter": "python",
   "pygments_lexer": "ipython3",
   "version": "3.9.12"
  }
 },
 "nbformat": 4,
 "nbformat_minor": 5
}
